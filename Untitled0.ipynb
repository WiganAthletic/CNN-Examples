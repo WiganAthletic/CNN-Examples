{
  "nbformat": 4,
  "nbformat_minor": 0,
  "metadata": {
    "colab": {
      "name": "Untitled0.ipynb",
      "provenance": [],
      "authorship_tag": "ABX9TyO1QA6YnFGBktm+tCqt11Uj",
      "include_colab_link": true
    },
    "kernelspec": {
      "name": "python3",
      "display_name": "Python 3"
    },
    "language_info": {
      "name": "python"
    }
  },
  "cells": [
    {
      "cell_type": "markdown",
      "metadata": {
        "id": "view-in-github",
        "colab_type": "text"
      },
      "source": [
        "<a href=\"https://colab.research.google.com/github/WiganAthletic/CNN-Examples/blob/main/Untitled0.ipynb\" target=\"_parent\"><img src=\"https://colab.research.google.com/assets/colab-badge.svg\" alt=\"Open In Colab\"/></a>"
      ]
    },
    {
      "cell_type": "markdown",
      "source": [
        "[Keras Guides](https://keras.io/guides/sequential_model/)\n",
        "\n",
        "[Implementing Alexnet from scratch using Keras](https://analyticsindiamag.com/hands-on-guide-to-implementing-alexnet-with-keras-for-multi-class-image-classification/)\n",
        "\n",
        "\n"
      ],
      "metadata": {
        "id": "7dri4sjR39dt"
      }
    },
    {
      "cell_type": "code",
      "source": [
        ""
      ],
      "metadata": {
        "colab": {
          "base_uri": "https://localhost:8080/"
        },
        "id": "THl_jqYO3Yth",
        "outputId": "fa93361a-5675-4c8c-b217-b9a3e8b004a7"
      },
      "execution_count": 12,
      "outputs": [
        {
          "output_type": "stream",
          "name": "stdout",
          "text": [
            "On branch master\n",
            "\n",
            "No commits yet\n",
            "\n",
            "Changes to be committed:\n",
            "  (use \"git rm --cached <file>...\" to unstage)\n",
            "\n",
            "\t\u001b[32mnew file:   .config/.last_opt_in_prompt.yaml\u001b[m\n",
            "\t\u001b[32mnew file:   .config/.last_survey_prompt.yaml\u001b[m\n",
            "\t\u001b[32mnew file:   .config/.last_update_check.json\u001b[m\n",
            "\t\u001b[32mnew file:   .config/active_config\u001b[m\n",
            "\t\u001b[32mnew file:   .config/config_sentinel\u001b[m\n",
            "\t\u001b[32mnew file:   .config/configurations/config_default\u001b[m\n",
            "\t\u001b[32mnew file:   .config/gce\u001b[m\n",
            "\t\u001b[32mnew file:   .config/logs/2022.07.06/13.20.41.536125.log\u001b[m\n",
            "\t\u001b[32mnew file:   .config/logs/2022.07.06/13.21.04.313145.log\u001b[m\n",
            "\t\u001b[32mnew file:   .config/logs/2022.07.06/13.21.24.463860.log\u001b[m\n",
            "\t\u001b[32mnew file:   .config/logs/2022.07.06/13.21.33.528230.log\u001b[m\n",
            "\t\u001b[32mnew file:   .config/logs/2022.07.06/13.21.53.919535.log\u001b[m\n",
            "\t\u001b[32mnew file:   .config/logs/2022.07.06/13.21.54.713715.log\u001b[m\n",
            "\t\u001b[32mnew file:   sample_data/README.md\u001b[m\n",
            "\t\u001b[32mnew file:   sample_data/anscombe.json\u001b[m\n",
            "\t\u001b[32mnew file:   sample_data/california_housing_test.csv\u001b[m\n",
            "\t\u001b[32mnew file:   sample_data/california_housing_train.csv\u001b[m\n",
            "\t\u001b[32mnew file:   sample_data/mnist_test.csv\u001b[m\n",
            "\t\u001b[32mnew file:   sample_data/mnist_train_small.csv\u001b[m\n",
            "\n"
          ]
        }
      ]
    },
    {
      "cell_type": "code",
      "execution_count": null,
      "metadata": {
        "id": "XlqkzxqrgtgY"
      },
      "outputs": [],
      "source": [
        "\n",
        "# Importing essential libraries\n",
        "import keras\n",
        "from keras.models import Sequential\n",
        "from keras.layers import Dense, Activation, Dropout, Flatten, Conv2D, MaxPooling2D\n",
        "from keras.layers.normalization import BatchNormalization\n",
        "import numpy as np\n"
      ]
    },
    {
      "cell_type": "markdown",
      "source": [
        "\n",
        "Alex Net has 8 layers\n",
        "\n",
        "\n",
        "*   5 Convolutional Layers\n",
        "*   3 Fully Connected Layers\n",
        "\n",
        "\n",
        "Some of the convolutional layers of the model are followed by max-pooling layers\n",
        "\n",
        "Activation functions used\n",
        "\n",
        "\n",
        "*   ReLU ==> Intermediate layers\n",
        "*   Softmax ==> O/P Layer\n",
        "\n"
      ],
      "metadata": {
        "id": "-neu8RrJ5Rv4"
      }
    },
    {
      "cell_type": "code",
      "source": [
        "\n",
        "# Instantiation\n",
        "AlexNet = Sequential()\n",
        "\n",
        "# 1st Convolutional Layer\n",
        "AlexNet.add(\n",
        "    Conv2D(\n",
        "        filters=96, input_shape=(),\n",
        "        kernel_size=(11,11), strides=(4,4), padding='same'\n",
        "    )\n",
        ")\n",
        "\n",
        "AlexNet.add(BatchNormalization())\n",
        "\n",
        "AlexNet.add(Activation('relu'))\n",
        "\n",
        "AlexNet.add(\n",
        "  MaxPooling2D(\n",
        "      pool_size=(2,2), strides=(2,2), padding='same'\n",
        "  )\n",
        ")\n",
        "\n",
        "#2nd Convolutional Layer\n",
        "AlexNet.add(\n",
        "    Conv2D(\n",
        "        filters=256,\n",
        "        kernel_size=(5,5), strides=(1,1), padding='same'\n",
        "    )\n",
        ")\n",
        "\n",
        "AlexNet.add(BatchNormalization())\n",
        "\n",
        "AlexNet.add(Activation('relu'))\n",
        "\n",
        "AlexNet.add(\n",
        "    MaxPooling2D(\n",
        "        pool_size=(2,2), strides=(2,2), padding='same'\n",
        "    )\n",
        ")\n",
        "\n",
        "# 3rd Convolutional Layer\n",
        "AlexNet.add(\n",
        "    Conv2D(\n",
        "        filters=384,\n",
        "        kernel_size=(3,3), strides=(1,1), padding='same'\n",
        "    )\n",
        ")\n",
        "\n",
        "AlexNet.add(BatchNormalization())\n",
        "\n",
        "AlexNet.add(Activation('relu'))\n",
        "\n",
        "# 4th Convolutional Layer\n",
        "AlexNet.add(\n",
        "    Conv2D(\n",
        "        filters=384,\n",
        "        kernel_size=(3,3), strides=(1,1), padding='same'\n",
        "    )\n",
        ")\n",
        "\n",
        "AlexNet.add(BatchNormalization())\n",
        "\n",
        "AlexNet.add(Activation('relu'))\n",
        "\n",
        "# 5th Convolutional Layer\n",
        "AlexNet.add(\n",
        "    Conv2D(\n",
        "        filters=256,\n",
        "        kernel_size=(3,3), strides=(1,1), padding='same'\n",
        "    )\n",
        ")\n",
        "\n",
        "AlexNet.add(BatchNormalization())\n",
        "\n",
        "AlexNet.add(Activation('relu'))\n",
        "\n",
        "AlexNet.add(\n",
        "    MaxPooling2D(\n",
        "        pool_size=(2,2), strides=(2,2), padding='same'\n",
        "    )\n",
        ")\n",
        "\n",
        "# Passing to the o/p obtained from the convolutional layers to the Fully connected layer\n",
        "\n",
        "# --------\n",
        "# 1st Fully Connected Layer\n",
        "# ---------\n",
        "AlexNet.add(\n",
        "    Dense(4096, input_shape=(32, 32, 3))\n",
        ")\n",
        "\n",
        "AlexNet.add(BatchNormalization())\n",
        "\n",
        "AlexNet.add(Activation('relu'))\n",
        "\n",
        "# Adding some dropout to prevent overfitting\n",
        "AlexNet.add(Dropout(0.4))\n",
        "\n",
        "# --------\n",
        "# 2nd Fully Connected Layer\n",
        "# ---------\n",
        "AlexNet.add(\n",
        "    Dense(4096)\n",
        ")\n",
        "\n",
        "AlexNet.add(BatchNormalization())\n",
        "\n",
        "AlexNet.add(Activation('relu'))\n",
        "\n",
        "# Adding dropout to prevent overfitting\n",
        "AlexNet.add(Dropout(0.4))\n",
        "\n",
        "# --------\n",
        "# 3rd Fully Connected Layer\n",
        "# ---------\n",
        "AlexNet.add(\n",
        "    Dense(1000)\n",
        ")\n",
        "\n",
        "AlexNet.add(BatchNormalization())\n",
        "\n",
        "AlexNet.add(Activation('relu'))\n",
        "\n",
        "# Adding dropout to prevent overfitting\n",
        "AlexNet.add(Dropout(0.4))\n",
        "\n",
        "# --------\n",
        "# Output Layer\n",
        "# ---------\n",
        "AlexNet.add(\n",
        "    Dense(10)\n",
        ")\n",
        "\n",
        "AlexNet.add(BatchNormalization())\n",
        "\n",
        "AlexNet.add(Activation('softmax'))\n",
        "\n",
        "\n"
      ],
      "metadata": {
        "id": "Nmv_SWLfg62F"
      },
      "execution_count": null,
      "outputs": []
    },
    {
      "cell_type": "code",
      "source": [
        "# Model Summary\n",
        "AlexNet.summary()"
      ],
      "metadata": {
        "id": "bDN_-COFm4kc"
      },
      "execution_count": null,
      "outputs": []
    },
    {
      "cell_type": "code",
      "source": [
        "# After defining our model\n",
        "# We will now compile the model\n",
        "# Optimizer used = Adam\n",
        "AlexNet.compile(\n",
        "    loss=keras.losses.categorical_crossentropy,\n",
        "    optimizer='adam', metrics=['accuracy']\n",
        ")\n",
        "\n",
        "# Our AlexNet CNN is now ready and compiled"
      ],
      "metadata": {
        "id": "ohpmyVu_nB4w"
      },
      "execution_count": null,
      "outputs": []
    },
    {
      "cell_type": "code",
      "source": [
        "\n",
        "# Importing necessary packages\n",
        "\n",
        "# Keras Library for CIFAR dataset\n",
        "from keras.datasets import cifar10\n",
        "\n",
        "from sklearn.model_selection import train_test_split\n",
        "from sklearn.utils.multiclass import unique_labels\n",
        "\n",
        "from keras.utils import to_categorical\n",
        "from keras.preprocessing.image import ImageDataGenerator\n"
      ],
      "metadata": {
        "id": "CQ4v3l02rejI"
      },
      "execution_count": null,
      "outputs": []
    },
    {
      "cell_type": "code",
      "source": [
        "\n",
        "# ---------------\n",
        "# Splitting data set into Training set , Validation set , Testing set\n",
        "# ---------------\n",
        "\n",
        "# Splitting dataset into Training set , Testing set\n",
        "(x_train, y_train), (x_test, y_test) = cifar10.load_data()\n",
        "\n",
        "# Splitting Training set into Training Set , Validation Set\n",
        "x_train, x_val, y_train, y_val = train_test_split(x_train, y_train, test_size=0.3)\n",
        "\n",
        "# Printing the dimensions of the CIFAR10 Dataset\n",
        "\n",
        "# -----------\n",
        "# One Hot Encoding the o/p class labels\n",
        "# -----------\n",
        "\n",
        "# Since we hv 10 classes\n",
        "# We expect the shape[1] of y_train, y_val, y_test to change from 1 to 10\n",
        "y_train = to_categorical(y_train)\n",
        "y_val = to_categorical(y_val)\n",
        "y_test = to_categorical(y_test)\n",
        "\n",
        "# Printing out the dimensions after performing One Hot Encoding\n"
      ],
      "metadata": {
        "id": "N_pxqOWVr2RC"
      },
      "execution_count": null,
      "outputs": []
    }
  ]
}